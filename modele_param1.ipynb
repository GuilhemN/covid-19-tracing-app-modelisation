{
 "cells": [
  {
   "cell_type": "markdown",
   "metadata": {},
   "source": [
    "# Paramètres"
   ]
  },
  {
   "cell_type": "code",
   "execution_count": 1,
   "metadata": {},
   "outputs": [],
   "source": [
    "#génération du graphe\n",
    "nbIndividus = 1000 # nombre d'individus dans le graphe\n",
    "deg_moy = 100 #le nombre moyen de connexions par personne\n",
    "household_size = 6 #la taille moyenne d'un foyer\n",
    "household_proba = 1 #la probabilité de contact par jour entre membres d'un même foyer\n",
    "extern_contact_proba = 0.3 #la probabilité de contact par jour entre personne de foyers différents\n",
    "\n",
    "UtilAppli = 0.8 #la proportion d'utilisateurs de l'application dans la population générale\n",
    "InitSain = 0.99 #la proportion de personnes saines à l'intant initial (les autres sont porteurs asymptomatiques)\n",
    "\n",
    "# application\n",
    "joursNotif = 14\n",
    "\n",
    "pDetection = 0.9\n",
    "pSignalement = 0.9\n",
    "pQNotif = 0.8 #proba de mise en confinement lors de la réception d'une notification\n",
    "\n",
    "# probas\n",
    "pContamination = 0.02 #proba de contaminer un autre individu\n",
    "\n",
    "pAtoG = 0.07 #proba de passer de asymptomatique à guéri\n",
    "pAtoIS = 0.02 #passage de asymptomatique à avec symptomes\n",
    "pAtoD = 0.0001 #proba de décès\n",
    "\n",
    "pIStoG = 0.07 #proba de passer de avec symptomes à gueri\n",
    "pIStoD = 0.01\n",
    "\n",
    "pQSymptomes = 0.9 #proba confinement lors de détection des symptomes\n",
    "\n",
    "facteurConfinement = 100 #réduction des probas de rencontre lors du confinement\n",
    "jourConfinement = 14"
   ]
  },
  {
   "cell_type": "code",
   "execution_count": 2,
   "metadata": {},
   "outputs": [],
   "source": [
    "# Librairies\n",
    "import random\n",
    "import math as m\n",
    "import numpy as np"
   ]
  },
  {
   "cell_type": "code",
   "execution_count": 3,
   "metadata": {},
   "outputs": [],
   "source": [
    "SAIN = 0\n",
    "MALADEASYMP = 1\n",
    "MALADE = 2\n",
    "GUERI = 3\n",
    "DECEDE = 4\n",
    "\n",
    "nbMaladeS = 0\n",
    "nbMaladeAS = 0\n",
    "nbSain = 0\n",
    "nbDecede = 0\n",
    "nbGueri = 0\n",
    "nbQuarantaine = 0"
   ]
  },
  {
   "cell_type": "code",
   "execution_count": 4,
   "metadata": {},
   "outputs": [],
   "source": [
    "individus = []\n",
    "adj = []"
   ]
  },
  {
   "cell_type": "markdown",
   "metadata": {},
   "source": [
    "# Génération du graphe"
   ]
  },
  {
   "cell_type": "code",
   "execution_count": 36,
   "metadata": {},
   "outputs": [],
   "source": [
    "# Initialisation du graphe\n",
    "\n",
    "def init_graph():\n",
    "    global nbSain\n",
    "    global nbMaladeAS\n",
    "    global individus\n",
    "    global adj\n",
    "    \n",
    "    # Création des individus\n",
    "    individus = []\n",
    "    for i in range(nbIndividus):\n",
    "        app = False\n",
    "        if random.uniform(0,1) < UtilAppli:\n",
    "            app = True\n",
    "        s = MALADEASYMP\n",
    "        if random.uniform(0,1) < InitSain:\n",
    "            s = SAIN\n",
    "            nbSain += 1\n",
    "        else:\n",
    "            nbMaladeAS += 1\n",
    "        individus.append({\"state\": s, \"confine\": False, \"resteConfinement\": 0, \"appli\": app})\n",
    "    \n",
    "    #affecting degrees to vertices\n",
    "    degrees = np.around(np.random.exponential(deg_moy, nbIndividus))\n",
    "\n",
    "    #to get an even number of total degrees\n",
    "    S = sum(degrees)\n",
    "    if S%2 == 1:\n",
    "        degrees[0] += 1\n",
    "        S += 1\n",
    "\n",
    "    adj = [[] for i in range(nbIndividus)]\n",
    "    cptt = 0\n",
    "    while S > 0:\n",
    "        #creating an edge\n",
    "        [p1, p2] = np.random.choice(len(degrees), 2, replace=False, p=degrees/S)\n",
    "        if p1 == p2:\n",
    "            cptt += 1\n",
    "        if degrees[p1] <= household_size or degrees[p2] <= household_size:\n",
    "            adj[p1].append({\"noeud\" : p2, \"proba\" : household_proba})\n",
    "            adj[p2].append({\"noeud\" : p1, \"proba\" : household_proba})\n",
    "        else:\n",
    "            adj[p1].append({\"noeud\" : p2, \"proba\" : extern_contact_proba})\n",
    "            adj[p2].append({\"noeud\" : p1, \"proba\" : extern_contact_proba})\n",
    "        degrees[p1] -= 1\n",
    "        degrees[p2] -= 1\n",
    "        S -= 2"
   ]
  },
  {
   "cell_type": "markdown",
   "metadata": {},
   "source": [
    "# Fonctions de gestion du graphe"
   ]
  },
  {
   "cell_type": "code",
   "execution_count": 6,
   "metadata": {},
   "outputs": [],
   "source": [
    "rencontres = [[[] for jour in range(joursNotif)] for individu in range(nbIndividus)]"
   ]
  },
  {
   "cell_type": "code",
   "execution_count": 7,
   "metadata": {},
   "outputs": [],
   "source": [
    "def contamination(i, j):\n",
    "    global nbSain\n",
    "    global nbMaladeAS\n",
    "    global individus\n",
    "    if individus[i]['state'] == individus[j]['state']:\n",
    "        return\n",
    "    if individus[i]['state'] >= GUERI or individus[j]['state'] >= GUERI:\n",
    "        return # on ne peut pas contaminer les individus guéris ou décédés\n",
    "    \n",
    "    if individus[i]['state'] == SAIN:\n",
    "        contamination(j, i)\n",
    "        return\n",
    "    \n",
    "    if individus[j]['state'] != SAIN or random.random() > pContamination:\n",
    "        return # pas contamination\n",
    "\n",
    "    nbSain -= 1\n",
    "    nbMaladeAS += 1\n",
    "    individus[j]['state'] = MALADEASYMP"
   ]
  },
  {
   "cell_type": "code",
   "execution_count": 8,
   "metadata": {},
   "outputs": [],
   "source": [
    "# Passage au jour suivant du graphe\n",
    "def step():\n",
    "    global nbSain\n",
    "    global nbMaladeS\n",
    "    global nbMaladeAS\n",
    "    global nbDecede\n",
    "    global nbGueri\n",
    "    global nbQuarantaine\n",
    "    \n",
    "    for rencontre in rencontres:\n",
    "        rencontre.append([]) # contiendra les nouvelles rencontres du jour\n",
    "\n",
    "    # On constate toutes les rencontres entre individus\n",
    "    for i in range(nbIndividus):\n",
    "        for arete in adj[i]:\n",
    "            j = arete['noeud']\n",
    "            if j < i:\n",
    "                continue # on ne regarde qu'un sens de chaque arête\n",
    "            \n",
    "            facteur = 1\n",
    "            if individus[i]['resteConfinement'] > 0:\n",
    "                facteur *= facteurConfinement\n",
    "            if individus[j]['resteConfinement'] > 0:\n",
    "                facteur *= facteurConfinement\n",
    "                \n",
    "            if random.random() > arete['proba'] / facteur: # Si i et/ou j sont confinés, réduction de leur proba de rencontre\n",
    "                continue # pas de rencontre\n",
    "        \n",
    "            # Si i et j ont l'appli, on note la rencontre\n",
    "            if individus[i]['appli'] and individus[j]['appli'] and random.random() < pDetection: \n",
    "                rencontres[i][-1].append(j) \n",
    "                rencontres[j][-1].append(i)\n",
    "            \n",
    "            contamination(i, j)\n",
    "    \n",
    "    # On passe au jour suivant\n",
    "    nbQuarantaine = 0\n",
    "    for i in range(nbIndividus):\n",
    "        individus[i]['resteConfinement'] -= 1\n",
    "        if individus[i]['resteConfinement'] > 0:\n",
    "            nbQuarantaine += 1\n",
    "\n",
    "    for i, individu in enumerate(individus): # On met à jour les états des individus\n",
    "        if individu['state'] == MALADEASYMP:\n",
    "            action = random.random()\n",
    "            if action < pAtoG:\n",
    "                nbMaladeAS -= 1\n",
    "                nbGueri += 1\n",
    "                individu['state'] = GUERI\n",
    "            elif action > 1 - pAtoIS:\n",
    "                nbMaladeAS -= 1\n",
    "                nbMaladeS += 1\n",
    "                individu['state'] = MALADE\n",
    "                \n",
    "                # envoi des notifs (rencontres[i] vide si i n'a pas l'appli)\n",
    "                for jourRencontre in rencontres[i]:\n",
    "                    for contact in jourRencontre:\n",
    "                        if random.random() < pQNotif:\n",
    "                            individus[contact]['resteConfinement'] = jourConfinement\n",
    "                \n",
    "                if random.random() < pQSymptomes: # mise en confinement à la détection des symptomes\n",
    "                    individu['resteConfinement'] = jourConfinement\n",
    "                \n",
    "        elif individu['state'] == MALADE:\n",
    "            action = random.random()\n",
    "            if action < pIStoG:\n",
    "                nbMaladeS -= 1\n",
    "                nbGueri += 1\n",
    "                individu['state'] = GUERI\n",
    "            elif action > 1 - pIStoD:\n",
    "                nbMaladeS -= 1\n",
    "                nbDecede += 1\n",
    "                individu['state'] = DECEDE\n",
    "    \n",
    "    # On supprime le plus vieux jour de l'historique\n",
    "    for rencontre in rencontres:\n",
    "        rencontre.pop(0)\n",
    "        \n",
    "            "
   ]
  },
  {
   "cell_type": "markdown",
   "metadata": {},
   "source": [
    "# Affichage"
   ]
  },
  {
   "cell_type": "code",
   "execution_count": 9,
   "metadata": {},
   "outputs": [
    {
     "data": {
      "image/png": "[encoded data removed]",
      "text/plain": [
       "<Figure size 432x288 with 1 Axes>"
      ]
     },
     "metadata": {
      "needs_background": "light"
     },
     "output_type": "display_data"
    }
   ],
   "source": [
    "import matplotlib.pyplot as plt\n",
    "import matplotlib.animation as animation\n",
    "from matplotlib import style\n",
    "\n",
    "init_graph()\n",
    "\n",
    "fig = plt.figure()\n",
    "ax = fig.add_subplot()\n",
    "xs = []\n",
    "y_D = []\n",
    "y_MS = []\n",
    "y_MAS = []\n",
    "y_S = []\n",
    "y_G = []\n",
    "y_Q = []\n",
    "\n",
    "def update_viz():\n",
    "    xs.append(len(xs))\n",
    "    y_D.append(nbDecede)        # ajoute le nombre de decedes\n",
    "    y_MS.append(nbMaladeS)      # ajoute le nombre de malade symptomatiques\n",
    "    y_MAS.append(nbMaladeAS)    # ajoute le nombre de malade asymptomatiques\n",
    "    y_S.append(nbSain)          # ajoute le nombre de personnes saines\n",
    "    y_G.append(nbGueri)         # ajoute le nombre de personnes guéries\n",
    "    y_Q.append(nbQuarantaine)   # ajoute le nombre de personnes en quarantaine\n",
    "    \n",
    "def draw_viz():\n",
    "    ax.clear()\n",
    "    def plot_with_label(ys, label):\n",
    "        line, = ax.plot(xs, ys)\n",
    "        line.set_label(label)\n",
    "    plot_with_label(y_D, \"Morts\")\n",
    "    plot_with_label(y_MAS, \"Malades asymp.\")\n",
    "    plot_with_label(y_MS, \"Malades symp.\")\n",
    "    plot_with_label(y_S, \"Sains\")\n",
    "    plot_with_label(y_G, \"Guéris\")\n",
    "    plot_with_label(y_Q, \"En quarantaine\")\n",
    "\n",
    "    ax.legend(loc='right')\n",
    "\n",
    "nbSteps = 60\n",
    "for _ in range(nbSteps):\n",
    "    # update simulation\n",
    "    step()\n",
    "    # update matplotlib\n",
    "    update_viz()\n",
    "draw_viz()"
   ]
  }
 ],
 "metadata": {
  "kernelspec": {
   "display_name": "Python 3",
   "language": "python",
   "name": "python3"
  },
  "language_info": {
   "codemirror_mode": {
    "name": "ipython",
    "version": 3
   },
   "file_extension": ".py",
   "mimetype": "text/x-python",
   "name": "python",
   "nbconvert_exporter": "python",
   "pygments_lexer": "ipython3",
   "version": "3.6.7"
  }
 },
 "nbformat": 4,
 "nbformat_minor": 4
}
