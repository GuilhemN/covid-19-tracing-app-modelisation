{
 "cells": [
  {
   "cell_type": "code",
   "execution_count": 6,
   "metadata": {},
   "outputs": [],
   "source": [
    "nbIndividus = 100 # nombre d'individus dans le graphe\n",
    "\n",
    "# taille des clusters du graphe (min/max)\n",
    "foyer = (2, 5)\n",
    "communaute = (4, 5) # nb de foyers dans une communauté\n",
    "\n",
    "# application\n",
    "joursNotif = 14\n",
    "\n",
    "# probas initialisation\n",
    "rencontreFoyer = 0.9 # proba de rencontrer un autre membre du foyer\n",
    "rencontreCommunaute = 0.01 # proba de rencontre un autre membre de la communauté\n",
    "rencontreNational = 0.001\n",
    "\n",
    "# probas\n"
   ]
  },
  {
   "cell_type": "code",
   "execution_count": null,
   "metadata": {},
   "outputs": [],
   "source": [
    "SAIN=0\n",
    "MALADEASYMP=1\n",
    "MALADE=2\n",
    "DECEDE=3"
   ]
  },
  {
   "cell_type": "code",
   "execution_count": 7,
   "metadata": {},
   "outputs": [],
   "source": [
    "# Initialisation du graphe\n",
    "individus = [{\"state\": SAIN} for individu in range(nbIndividus)]\n",
    "foyers = []\n",
    "communautes = []\n",
    "\n",
    "adj = [[] for l in range(nbIndividus)]\n",
    "adj[0].append({\"noeud\": 3, \"proba\": 0.2})"
   ]
  },
  {
   "cell_type": "code",
   "execution_count": 8,
   "metadata": {},
   "outputs": [],
   "source": [
    "rencontres = [[[] for jour in range(joursNotif)] for individu in range(nbIndividus)]"
   ]
  },
  {
   "cell_type": "code",
   "execution_count": 11,
   "metadata": {},
   "outputs": [],
   "source": [
    "# Passage au jour suivant du graphe\n",
    "def step(graphe):\n",
    "    for i in range(nbIndividus):\n",
    "        pass"
   ]
  },
  {
   "cell_type": "code",
   "execution_count": 5,
   "metadata": {},
   "outputs": [],
   "source": [
    "# Affichage\n"
   ]
  }
 ],
 "metadata": {
  "kernelspec": {
   "display_name": "Python 3",
   "language": "python",
   "name": "python3"
  },
  "language_info": {
   "codemirror_mode": {
    "name": "ipython",
    "version": 3
   },
   "file_extension": ".py",
   "mimetype": "text/x-python",
   "name": "python",
   "nbconvert_exporter": "python",
   "pygments_lexer": "ipython3",
   "version": "3.6.9"
  }
 },
 "nbformat": 4,
 "nbformat_minor": 4
}
