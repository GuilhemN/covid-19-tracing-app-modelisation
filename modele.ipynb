{
 "cells": [
  {
   "cell_type": "code",
   "execution_count": 23,
   "metadata": {},
   "outputs": [],
   "source": [
    "nbIndividus = 100 # nombre d'individus dans le graphe\n",
    "\n",
    "# taille des clusters du graphe (min/max)\n",
    "foyer = (2, 5)\n",
    "communaute = (4, 5) # nb de foyers dans une communauté\n",
    "\n",
    "# application\n",
    "joursNotif = 14\n",
    "\n",
    "pDetection = 0.9\n",
    "pSignalement = 0.5\n",
    "pQNotif = 0.5 # proba de mise en confinement lors de la réception d'une notif\n",
    "\n",
    "# probas initialisation\n",
    "rencontreFoyer = 0.9 # proba de rencontrer un autre membre du foyer\n",
    "rencontreCommunaute = 0.01 # proba de rencontrer un autre membre de la communauté\n",
    "rencontreNational = 0.001\n",
    "\n",
    "# probas\n",
    "pContamination = 0.5 # proba de contaminer un autre individu\n",
    "\n",
    "pAtoG = 0.1 # proba de passer de asymptotique à guéri\n",
    "pAtoIS = 0.1 # passage de asymptotique à avec symptomes\n",
    "pAtoD = 0.1 # proba de décès\n",
    "\n",
    "pIStoG = 0.1 # avec symptomes à gueri\n",
    "pIStoD = 0.1\n",
    "\n",
    "pQSymptomes = 0.2 # proba confinement lors de détection symptomes\n",
    "\n",
    "facteurConfinement = 3 # Réduction des probas de rencontre lors du confinement\n",
    "jourConfinement = 14"
   ]
  },
  {
   "cell_type": "code",
   "execution_count": 24,
   "metadata": {},
   "outputs": [],
   "source": [
    "# Librairies\n",
    "import random"
   ]
  },
  {
   "cell_type": "code",
   "execution_count": 25,
   "metadata": {},
   "outputs": [],
   "source": [
    "SAIN=0\n",
    "MALADEASYMP=1\n",
    "MALADE=2\n",
    "GUERI=3\n",
    "DECEDE=4"
   ]
  },
  {
   "cell_type": "code",
   "execution_count": 46,
   "metadata": {},
   "outputs": [],
   "source": [
    "# Initialisation du graphe\n",
    "individus = [{\"state\": SAIN, \"confine\": False, \"resteConfinement\": 0, \"appli\": True} for individu in range(nbIndividus)]\n",
    "foyers = []\n",
    "communautes = []\n",
    "\n",
    "adj = [[] for l in range(nbIndividus)]\n",
    "adj[0].append({\"noeud\": 3, \"proba\": 0.2})"
   ]
  },
  {
   "cell_type": "markdown",
   "metadata": {},
   "source": [
    "# Fonctions de gestion du graphe"
   ]
  },
  {
   "cell_type": "code",
   "execution_count": 27,
   "metadata": {},
   "outputs": [],
   "source": [
    "rencontres = [[[] for jour in range(joursNotif)] for individu in range(nbIndividus)]"
   ]
  },
  {
   "cell_type": "code",
   "execution_count": 41,
   "metadata": {},
   "outputs": [],
   "source": [
    "def contamination(i, j):\n",
    "    if individus[i]['state'] == SAIN and individus[j]['state'] == SAIN:\n",
    "        return\n",
    "    if individus[i]['state'] >= GUERI or individus[j]['state'] >= GUERI:\n",
    "        return # on ne peut pas contaminer les individus guéris ou décédés\n",
    "    \n",
    "    if indivus[i] == SAIN:\n",
    "        contamination(j, i)\n",
    "        \n",
    "        return\n",
    "    \n",
    "    if random.random() > pContamination:\n",
    "        return # pas contamination\n",
    "\n",
    "    individus[j]['state'] = MALADEASYMP"
   ]
  },
  {
   "cell_type": "code",
   "execution_count": 48,
   "metadata": {},
   "outputs": [],
   "source": [
    "# Passage au jour suivant du graphe\n",
    "def step():\n",
    "    for rencontre in rencontres:\n",
    "        rencontre.append([]) # contiendra les nouvelles rencontres du jour\n",
    "\n",
    "    # On constate toutes les rencontres entre individus\n",
    "    for i in range(nbIndividus):\n",
    "        for arete in adj[i]:\n",
    "            j = arete['noeud']\n",
    "            if j < i:\n",
    "                continue # on ne regarde qu'un sens de chaque arête\n",
    "            \n",
    "            facteur = 1\n",
    "            if individus[i]['resteConfinement'] > 0:\n",
    "                facteur *= facteurConfinement\n",
    "            if individus[j]['resteConfinement'] > 0:\n",
    "                facteur *= facteurConfinement\n",
    "                \n",
    "            if random.random() > arete['proba'] / facteur: # Si i et/ou j sont confinés, réduction de leur proba de rencontre\n",
    "                continue # pas de rencontre\n",
    "        \n",
    "            # Si i et j ont l'appli, on note la rencontre\n",
    "            if individus[i].appli and individus[j]['appli'] and random.random() < pDetection: \n",
    "                rencontres[i][-1].append(j) \n",
    "                rencontres[j][-1].append(i)\n",
    "            \n",
    "            contamination(i, j)\n",
    "    \n",
    "    # On passe au jour suivant\n",
    "    for i in range(nbIndividus):\n",
    "        individus[i]['resteConfinement'] -= 1\n",
    "\n",
    "    for i, individu in enumerate(individus): # On met à jour les états des individus\n",
    "        if individu['state'] == MALADEASYMP:\n",
    "            action = random.random()\n",
    "            if action < pAtoG:\n",
    "                individu['state'] = GUERI\n",
    "            elif action > 1 - pAtoIS:\n",
    "                individu['state'] = MALADE\n",
    "                \n",
    "                # envoi des notifs (rencontres[i] vide si i n'a pas l'appli)\n",
    "                for jourRencontre in rencontres[i]:\n",
    "                    for contact in jourRencontre:\n",
    "                        if random.random() < pQNotif:\n",
    "                            individus[contact]['resteConfinement'] = jourConfinement\n",
    "                \n",
    "                if random.random() < pQSymptomes: # mise en confinement à la détection des symptomes\n",
    "                    individu['resteConfinement'] = jourConfinement\n",
    "                \n",
    "        elif individu['state'] == MALADE:\n",
    "            action = random.random()\n",
    "            if action < pIStoG:\n",
    "                individu['state'] = GUERI\n",
    "            elif action > 1 - pIStoD:\n",
    "                individu['state'] = DECES\n",
    "    \n",
    "    # On supprime le plus vieux jour de l'historique\n",
    "    for rencontre in rencontres:\n",
    "        rencontre.pop(0)\n",
    "        \n",
    "            "
   ]
  },
  {
   "cell_type": "code",
   "execution_count": 49,
   "metadata": {},
   "outputs": [],
   "source": [
    "# Affichage\n",
    "step()"
   ]
  }
 ],
 "metadata": {
  "kernelspec": {
   "display_name": "Python 3",
   "language": "python",
   "name": "python3"
  },
  "language_info": {
   "codemirror_mode": {
    "name": "ipython",
    "version": 3
   },
   "file_extension": ".py",
   "mimetype": "text/x-python",
   "name": "python",
   "nbconvert_exporter": "python",
   "pygments_lexer": "ipython3",
   "version": "3.6.9"
  }
 },
 "nbformat": 4,
 "nbformat_minor": 4
}
